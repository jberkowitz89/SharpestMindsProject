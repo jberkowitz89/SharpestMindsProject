{
 "cells": [
  {
   "cell_type": "code",
   "execution_count": 2,
   "metadata": {},
   "outputs": [],
   "source": [
    "import pandas as pd\n",
    "import numpy as np"
   ]
  },
  {
   "cell_type": "code",
   "execution_count": 4,
   "metadata": {},
   "outputs": [
    {
     "data": {
      "text/plain": [
       "'/Users/josephberkowitz/Desktop/SharpestMinds/SharpestMindsProject'"
      ]
     },
     "execution_count": 4,
     "metadata": {},
     "output_type": "execute_result"
    }
   ],
   "source": [
    "import os\n",
    "os.getcwd()"
   ]
  },
  {
   "cell_type": "code",
   "execution_count": 7,
   "metadata": {},
   "outputs": [],
   "source": [
    "os.chdir(\"Nintendo_Project\")"
   ]
  },
  {
   "cell_type": "code",
   "execution_count": 8,
   "metadata": {},
   "outputs": [
    {
     "data": {
      "text/plain": [
       "'/Users/josephberkowitz/Desktop/SharpestMinds/SharpestMindsProject/Nintendo_Project'"
      ]
     },
     "execution_count": 8,
     "metadata": {},
     "output_type": "execute_result"
    }
   ],
   "source": [
    "os.getcwd()"
   ]
  },
  {
   "cell_type": "code",
   "execution_count": 9,
   "metadata": {},
   "outputs": [
    {
     "name": "stdout",
     "output_type": "stream",
     "text": [
      "\u001b[34mNintendo\u001b[m\u001b[m                   Nintendo_Learning.ipynb\r\n",
      "Nintendo_Experiments.ipynb data.csv\r\n"
     ]
    }
   ],
   "source": [
    "!ls"
   ]
  },
  {
   "cell_type": "code",
   "execution_count": 10,
   "metadata": {},
   "outputs": [
    {
     "data": {
      "text/html": [
       "<div>\n",
       "<style scoped>\n",
       "    .dataframe tbody tr th:only-of-type {\n",
       "        vertical-align: middle;\n",
       "    }\n",
       "\n",
       "    .dataframe tbody tr th {\n",
       "        vertical-align: top;\n",
       "    }\n",
       "\n",
       "    .dataframe thead th {\n",
       "        text-align: right;\n",
       "    }\n",
       "</style>\n",
       "<table border=\"1\" class=\"dataframe\">\n",
       "  <thead>\n",
       "    <tr style=\"text-align: right;\">\n",
       "      <th></th>\n",
       "      <th>User</th>\n",
       "      <th>Game</th>\n",
       "      <th>Rating</th>\n",
       "    </tr>\n",
       "  </thead>\n",
       "  <tbody>\n",
       "    <tr>\n",
       "      <th>0</th>\n",
       "      <td>dumedum</td>\n",
       "      <td>The Legend of Zelda: Breath of the Wild</td>\n",
       "      <td>10</td>\n",
       "    </tr>\n",
       "    <tr>\n",
       "      <th>1</th>\n",
       "      <td>dumedum</td>\n",
       "      <td>Tom Clancy's Ghost Recon: Shadow Wars 3D</td>\n",
       "      <td>10</td>\n",
       "    </tr>\n",
       "    <tr>\n",
       "      <th>2</th>\n",
       "      <td>dumedum</td>\n",
       "      <td>Darkman</td>\n",
       "      <td>10</td>\n",
       "    </tr>\n",
       "    <tr>\n",
       "      <th>3</th>\n",
       "      <td>Action51</td>\n",
       "      <td>Pokémon Sun and Moon</td>\n",
       "      <td>9</td>\n",
       "    </tr>\n",
       "    <tr>\n",
       "      <th>4</th>\n",
       "      <td>Action51</td>\n",
       "      <td>Twisted Fusion</td>\n",
       "      <td>7</td>\n",
       "    </tr>\n",
       "  </tbody>\n",
       "</table>\n",
       "</div>"
      ],
      "text/plain": [
       "       User                                      Game Rating\n",
       "0   dumedum   The Legend of Zelda: Breath of the Wild     10\n",
       "1   dumedum  Tom Clancy's Ghost Recon: Shadow Wars 3D     10\n",
       "2   dumedum                                   Darkman     10\n",
       "3  Action51                      Pokémon Sun and Moon      9\n",
       "4  Action51                            Twisted Fusion      7"
      ]
     },
     "execution_count": 10,
     "metadata": {},
     "output_type": "execute_result"
    }
   ],
   "source": [
    "df = pd.read_csv(\"data.csv\")\n",
    "df.head()"
   ]
  },
  {
   "cell_type": "code",
   "execution_count": 11,
   "metadata": {},
   "outputs": [],
   "source": [
    "#Importing surprise modules\n",
    "from surprise import Reader, accuracy, Dataset\n",
    "from surprise.model_selection import KFold, cross_validate, train_test_split\n",
    "from surprise import SVD, SVDpp"
   ]
  },
  {
   "cell_type": "code",
   "execution_count": 12,
   "metadata": {},
   "outputs": [],
   "source": [
    "df = df[df[\"Rating\"] != \"No Score\"]"
   ]
  },
  {
   "cell_type": "code",
   "execution_count": 13,
   "metadata": {},
   "outputs": [
    {
     "name": "stdout",
     "output_type": "stream",
     "text": [
      "Number of Unique Users in our dataset:  392\n",
      "Number of Unique Games in our dataset:  3572\n"
     ]
    }
   ],
   "source": [
    "print(\"Number of Unique Users in our dataset: \", df[\"User\"].nunique())\n",
    "print(\"Number of Unique Games in our dataset: \", df[\"Game\"].nunique())"
   ]
  },
  {
   "cell_type": "code",
   "execution_count": 14,
   "metadata": {},
   "outputs": [],
   "source": [
    "#Instantiating reader and dataset object\n",
    "reader = Reader(rating_scale=(1, 10))\n",
    "game_data = Dataset.load_from_df(df[['User', 'Game', 'Rating']], reader)"
   ]
  },
  {
   "cell_type": "code",
   "execution_count": 15,
   "metadata": {},
   "outputs": [
    {
     "data": {
      "text/plain": [
       "[('dumedum', 'The Legend of Zelda: Breath of the Wild', 10.0, None),\n",
       " ('dumedum', \"Tom Clancy's Ghost Recon: Shadow Wars 3D\", 10.0, None),\n",
       " ('dumedum', 'Darkman', 10.0, None),\n",
       " ('Action51', 'Pokémon Sun and Moon', 9.0, None),\n",
       " ('Action51', 'Twisted Fusion', 7.0, None)]"
      ]
     },
     "execution_count": 15,
     "metadata": {},
     "output_type": "execute_result"
    }
   ],
   "source": [
    "game_data.raw_ratings[0:5]"
   ]
  },
  {
   "cell_type": "code",
   "execution_count": 16,
   "metadata": {},
   "outputs": [],
   "source": [
    "algo = SVDpp()"
   ]
  },
  {
   "cell_type": "code",
   "execution_count": 17,
   "metadata": {},
   "outputs": [
    {
     "data": {
      "text/plain": [
       "{'test_rmse': array([1.36335583, 1.38589675, 1.44619244, 1.45246983, 1.38933315]),\n",
       " 'test_mae': array([0.98271174, 0.97896098, 1.01354012, 0.99253294, 0.98704196]),\n",
       " 'fit_time': (29.0626540184021,\n",
       "  34.43957877159119,\n",
       "  32.08194303512573,\n",
       "  27.927454233169556,\n",
       "  26.046868085861206),\n",
       " 'test_time': (0.5612320899963379,\n",
       "  0.42183709144592285,\n",
       "  0.33983302116394043,\n",
       "  0.32359790802001953,\n",
       "  0.3325002193450928)}"
      ]
     },
     "execution_count": 17,
     "metadata": {},
     "output_type": "execute_result"
    }
   ],
   "source": [
    "cross_validate(algo, game_data, measures=['RMSE', 'MAE'], cv=5, verbose=False)"
   ]
  },
  {
   "cell_type": "code",
   "execution_count": 18,
   "metadata": {},
   "outputs": [],
   "source": [
    "trainset, testset = train_test_split(game_data, test_size=0.2)"
   ]
  },
  {
   "cell_type": "code",
   "execution_count": 19,
   "metadata": {},
   "outputs": [
    {
     "name": "stdout",
     "output_type": "stream",
     "text": [
      "RMSE: 1.3613\n",
      "1.3613187713363157\n"
     ]
    }
   ],
   "source": [
    "algo = SVDpp()\n",
    "predictions = algo.fit(trainset).test(testset)\n",
    "print(accuracy.rmse(predictions))"
   ]
  },
  {
   "cell_type": "code",
   "execution_count": null,
   "metadata": {},
   "outputs": [],
   "source": []
  }
 ],
 "metadata": {
  "kernelspec": {
   "display_name": "Python 3",
   "language": "python",
   "name": "python3"
  },
  "language_info": {
   "codemirror_mode": {
    "name": "ipython",
    "version": 3
   },
   "file_extension": ".py",
   "mimetype": "text/x-python",
   "name": "python",
   "nbconvert_exporter": "python",
   "pygments_lexer": "ipython3",
   "version": "3.7.3"
  }
 },
 "nbformat": 4,
 "nbformat_minor": 2
}
